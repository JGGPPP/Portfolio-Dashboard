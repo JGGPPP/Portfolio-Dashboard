{
 "cells": [
  {
   "attachments": {},
   "cell_type": "markdown",
   "metadata": {},
   "source": [
    "<div class=\"alert alert-block alert-info text-center\">\n",
    "    <H1> Interactive Portfolio Dashboard </H1>\n",
    "</div>"
   ]
  },
  {
   "cell_type": "code",
   "execution_count": null,
   "metadata": {},
   "outputs": [],
   "source": []
  },
  {
   "attachments": {},
   "cell_type": "markdown",
   "metadata": {},
   "source": [
    "<div class=\"alert alert-block alert-info text-center\">\n",
    "    <H1> PHASE I </H1>\n",
    "</div>"
   ]
  },
  {
   "cell_type": "code",
   "execution_count": null,
   "metadata": {},
   "outputs": [],
   "source": [
    "import pandas as pd\n",
    "import numpy as np\n",
    "from datetime import datetime"
   ]
  },
  {
   "cell_type": "code",
   "execution_count": null,
   "metadata": {},
   "outputs": [],
   "source": [
    "def expand_buyselldf(df):\n",
    "    buysell_df = df.copy()\n",
    "    buysell_df['transact_val'] = round(buysell_df['quantity'] * buysell_df['price'], 2)\n",
    "\n",
    "    # Getting the previous row for the ticker\n",
    "    prev_row = []\n",
    "    for x, tick in enumerate(buysell_df['ticker']):\n",
    "        if x == 0:\n",
    "            prev_row.append(pd.NA)\n",
    "\n",
    "        else:\n",
    "            row_tick = buysell_df['ticker'][:x]\n",
    "            last_occ = row_tick.where(row_tick == tick).last_valid_index()\n",
    "\n",
    "            if last_occ is not None:\n",
    "                prev_row.append(last_occ)\n",
    "            else:\n",
    "                prev_row.append(pd.NA)\n",
    "\n",
    "    buysell_df['last_occurrence'] = prev_row\n",
    "    buysell_df['last_occurrence'] = buysell_df['last_occurrence'].astype('Int64')\n",
    "\n",
    "    # Getting the cashflow column\n",
    "    cash_flow = []\n",
    "    for x, ref in enumerate(buysell_df['type']):\n",
    "        if ref == 'Buy':\n",
    "            cash_flow.append(buysell_df['quantity'].iloc[x] * buysell_df['price'].iloc[x] * (-1))\n",
    "        else:\n",
    "            cash_flow.append(buysell_df['quantity'].iloc[x] * buysell_df['price'].iloc[x])\n",
    "\n",
    "    buysell_df['cashflow'] = cash_flow\n",
    "    buysell_df['cashflow'] = buysell_df['cashflow'].round(2)\n",
    "\n",
    "    # Getting the previous units and the cumulative units for each row\n",
    "    buysell_df['prev_units'] = 0.0\n",
    "    buysell_df['cml_units'] = 0.0\n",
    "    for x, ref in enumerate(buysell_df['last_occurrence']):\n",
    "        if ref is pd.NA:\n",
    "            buysell_df.iat[x,9] = 0\n",
    "            if buysell_df['type'].iloc[x] == 'Buy':\n",
    "                buysell_df.iat[x,10] = buysell_df['quantity'].iloc[x]\n",
    "\n",
    "        else:\n",
    "            buysell_df.iat[x,9] = buysell_df['cml_units'].iloc[ref]\n",
    "            if buysell_df['type'].iloc[x] == 'Buy':\n",
    "                buysell_df.iat[x,10] = round(buysell_df['cml_units'].iloc[ref] + buysell_df['quantity'].iloc[x], 4)\n",
    "            else:\n",
    "                buysell_df.iat[x,10] = round(buysell_df['cml_units'].iloc[ref] - buysell_df['quantity'].iloc[x], 4)\n",
    "\n",
    "    # Getting the previous cost, cumulative cost, transtype cost and unit cost for each row\n",
    "    buysell_df['prev_cost'] = 0.0 # 11\n",
    "    buysell_df['cml_cost'] = 0.0 # 12\n",
    "    buysell_df['cost_transact'] = 0.0 # 13\n",
    "    buysell_df['cost_unit'] = 0.0 # 14\n",
    "\n",
    "    for x, ref in enumerate(buysell_df['last_occurrence']):\n",
    "        if ref is pd.NA:\n",
    "            buysell_df.iat[x,11] = 0\n",
    "            buysell_df.iat[x,13] = np.nan\n",
    "            buysell_df.iat[x,14] = np.nan\n",
    "            if buysell_df['type'].iloc[x] == 'Buy':\n",
    "                buysell_df.iat[x,12] = buysell_df['transact_val'].iloc[x]\n",
    "                buysell_df.iat[x,13] = np.nan\n",
    "                buysell_df.iat[x,14] = np.nan\n",
    "            # there should be no SELL on the first row!\n",
    "\n",
    "        else: # in case last occurrence is not nan\n",
    "            buysell_df.iat[x,11] = buysell_df['cml_cost'].iloc[ref]\n",
    "            if buysell_df['type'].iloc[x] == 'Buy':\n",
    "                buysell_df.iat[x,12] = round(buysell_df['cml_cost'].iloc[ref] + buysell_df['transact_val'].iloc[x], 4)\n",
    "                buysell_df.iat[x,13] = np.nan\n",
    "                buysell_df.iat[x,14] = np.nan\n",
    "            else: # in case SELL\n",
    "                buysell_df.iat[x,13] = round((buysell_df['quantity'].iloc[x]) / (buysell_df['cml_units'].iloc[ref]) * (buysell_df['cml_cost'].iloc[ref]), 4)\n",
    "                buysell_df.iat[x,12] = round(buysell_df['cml_cost'].iloc[ref] - buysell_df['cost_transact'].iloc[x], 4)\n",
    "                buysell_df.iat[x,14] = round(buysell_df['cml_cost'].iloc[ref] / buysell_df['cml_units'].iloc[ref], 4)\n",
    "\n",
    "    # Getting the realized Gain/Loss and yield %\n",
    "    buysell_df['gain_loss'] = 0.0\n",
    "    buysell_df['yield'] = 0.0\n",
    "    for x, ref in enumerate(buysell_df['type']):\n",
    "        if ref == 'Sell':\n",
    "            buysell_df.iat[x,15] = round(buysell_df['transact_val'].iloc[x] - buysell_df['cost_transact'].iloc[x], 4)\n",
    "            buysell_df.iat[x,16] = round(buysell_df.iat[x,15] / buysell_df['cost_transact'].iloc[x], 4)\n",
    "    return buysell_df.fillna(0)\n",
    "\n",
    "def clean_header(df):\n",
    "    df.columns = df.columns.str.strip().str.lower().str.replace('.', '', regex=False).str.replace('(', \\\n",
    "                '', regex=False).str.replace(')', '', regex=False).str.replace(' ', '_', regex=False).str.replace('_/_', '/', regex=False)\n",
    "    \n",
    "def get_now():\n",
    "    now = datetime.now().strftime('%Y-%m-%d_%Hh%Mm')\n",
    "    return now\n",
    "\n",
    "def datetime_maker(df, datecol):\n",
    "    df[datecol] = pd.to_datetime(df[datecol])"
   ]
  },
  {
   "cell_type": "code",
   "execution_count": null,
   "metadata": {},
   "outputs": [],
   "source": []
  },
  {
   "cell_type": "code",
   "execution_count": null,
   "metadata": {},
   "outputs": [],
   "source": [
    "broker1_raw = pd.read_excel(\"../inputs/broker1/broker1.xlsx\", engine='openpyxl')\n",
    "broker1_raw.sort_index(inplace=True)\n",
    "clean_header(broker1_raw)\n",
    "datetime_maker(broker1_raw, 'time')\n",
    "broker1_raw['no_of_shares'] = broker1_raw['no_of_shares'].round(4)\n",
    "broker1_raw['action'].mask(broker1_raw['action'].str.contains('uy'), 'Buy', inplace=True)\n",
    "broker1_raw['action'].mask(broker1_raw['action'].str.contains('ell'), 'Sell', inplace=True)\n",
    "buysell_filter = (broker1_raw['action'].str.contains('Buy') | broker1_raw['action'].str.contains('Sell'))\n",
    "cols_brok1 = ['time', 'action', 'ticker', 'no_of_shares', 'price/share', 'withholding_tax']\n",
    "broker1_buysell = broker1_raw[buysell_filter][cols_brok1]\n",
    "broker1_buysell.reset_index(inplace=True, drop=True)\n",
    "cols_buysell = ['date', 'type', 'ticker', 'quantity', 'price', 'fees']\n",
    "broker1_buysell.columns = cols_buysell\n",
    "broker1_buysell['date'] = broker1_buysell['date'].dt.normalize()"
   ]
  },
  {
   "cell_type": "code",
   "execution_count": null,
   "metadata": {},
   "outputs": [],
   "source": []
  },
  {
   "cell_type": "code",
   "execution_count": null,
   "metadata": {},
   "outputs": [],
   "source": [
    "broker2_raw = pd.read_csv(\"../inputs/broker2/broker2.csv\", sep=';')\n",
    "broker2_raw = broker2_raw[['Date', 'Type', 'Ticker', 'Quantity', 'Price per share', 'FX Rate']]\n",
    "broker2_raw.columns = cols_buysell\n",
    "broker2_raw.date = pd.to_datetime(broker2_raw.date, format=\"%d/%m/%Y %H:%M\")\n",
    "broker2_raw.type = broker2_raw.type.str.capitalize()\n",
    "broker2_buysell = broker2_raw[broker2_raw.type.str.lower().str.contains('buy|sell')]\n",
    "broker2_buysell.sort_values(by='date')\n",
    "broker2_buysell.reset_index(inplace=True, drop=True)"
   ]
  },
  {
   "cell_type": "code",
   "execution_count": null,
   "metadata": {},
   "outputs": [],
   "source": [
    "merged_transactions = broker2_buysell.append(broker1_buysell)\n",
    "merged_transactions.reset_index(inplace=True, drop=True)\n",
    "merged_transactions.fillna(0, inplace=True)\n",
    "merged_transactions.date = merged_transactions.date.dt.date\n",
    "merged_transactions = merged_transactions.sort_values(by='date').reset_index(drop=True)"
   ]
  },
  {
   "cell_type": "code",
   "execution_count": null,
   "metadata": {},
   "outputs": [],
   "source": [
    "merged_transactions"
   ]
  },
  {
   "cell_type": "code",
   "execution_count": null,
   "metadata": {},
   "outputs": [],
   "source": [
    "final = expand_buyselldf(merged_transactions).sort_values(by='date')"
   ]
  },
  {
   "cell_type": "code",
   "execution_count": null,
   "metadata": {},
   "outputs": [],
   "source": [
    "final.tail(10)"
   ]
  },
  {
   "cell_type": "code",
   "execution_count": null,
   "metadata": {},
   "outputs": [],
   "source": [
    "final['cml_cashflow'] = final['cashflow'].cumsum()*-1"
   ]
  },
  {
   "cell_type": "code",
   "execution_count": null,
   "metadata": {},
   "outputs": [],
   "source": [
    "final['avg_price'] = final['cml_cost']/final['cml_units']"
   ]
  },
  {
   "cell_type": "code",
   "execution_count": null,
   "metadata": {},
   "outputs": [],
   "source": [
    "final.tail(10)"
   ]
  },
  {
   "cell_type": "code",
   "execution_count": null,
   "metadata": {},
   "outputs": [],
   "source": [
    "final.to_excel('../outputs/transactions_all/transactions_finaldf_{}.xlsx'.format(get_now()), index=False)"
   ]
  },
  {
   "cell_type": "code",
   "execution_count": null,
   "metadata": {},
   "outputs": [],
   "source": [
    "# final.groupby(['ticker']).last().to_excel('../outputs/transactions_all/finaldf_lastpositions_{}.xlsx'.format(get_now()))"
   ]
  },
  {
   "cell_type": "code",
   "execution_count": null,
   "metadata": {},
   "outputs": [],
   "source": []
  }
 ],
 "metadata": {
  "kernelspec": {
   "display_name": "Python 3.9.12 ('base')",
   "language": "python",
   "name": "python3"
  },
  "language_info": {
   "codemirror_mode": {
    "name": "ipython",
    "version": 3
   },
   "file_extension": ".py",
   "mimetype": "text/x-python",
   "name": "python",
   "nbconvert_exporter": "python",
   "pygments_lexer": "ipython3",
   "version": "3.9.12 (main, Apr  5 2022, 01:53:17) \n[Clang 12.0.0 ]"
  },
  "vscode": {
   "interpreter": {
    "hash": "c4e4e0db8504a060df795c96eaaf5f2e40d78467421fda8e3c9314686cc061bf"
   }
  }
 },
 "nbformat": 4,
 "nbformat_minor": 2
}
